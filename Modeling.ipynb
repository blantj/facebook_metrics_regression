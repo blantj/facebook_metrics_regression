{
 "cells": [
  {
   "cell_type": "markdown",
   "metadata": {},
   "source": [
    "# Import packages"
   ]
  },
  {
   "cell_type": "markdown",
   "metadata": {},
   "source": [
    "Import python packages"
   ]
  },
  {
   "cell_type": "code",
   "execution_count": 1,
   "metadata": {},
   "outputs": [],
   "source": [
    "import pandas as pd\n",
    "import matplotlib.pyplot as plt\n",
    "import seaborn as sns\n",
    "from sklearn.metrics import mean_squared_error, mean_absolute_error\n",
    "from sklearn.linear_model import LinearRegression, Lasso, Ridge\n",
    "from sklearn.model_selection import train_test_split, GridSearchCV\n",
    "from sklearn.ensemble import RandomForestRegressor\n",
    "from sklearn.preprocessing import StandardScaler\n",
    "from sklearn.dummy import DummyRegressor\n",
    "from math import sqrt"
   ]
  },
  {
   "cell_type": "markdown",
   "metadata": {},
   "source": [
    "# Obtain data"
   ]
  },
  {
   "cell_type": "markdown",
   "metadata": {},
   "source": [
    "Read data CSV into Pandas"
   ]
  },
  {
   "cell_type": "code",
   "execution_count": 2,
   "metadata": {},
   "outputs": [
    {
     "data": {
      "text/html": [
       "<div>\n",
       "<style scoped>\n",
       "    .dataframe tbody tr th:only-of-type {\n",
       "        vertical-align: middle;\n",
       "    }\n",
       "\n",
       "    .dataframe tbody tr th {\n",
       "        vertical-align: top;\n",
       "    }\n",
       "\n",
       "    .dataframe thead th {\n",
       "        text-align: right;\n",
       "    }\n",
       "</style>\n",
       "<table border=\"1\" class=\"dataframe\">\n",
       "  <thead>\n",
       "    <tr style=\"text-align: right;\">\n",
       "      <th></th>\n",
       "      <th>Page total likes</th>\n",
       "      <th>Type</th>\n",
       "      <th>Category</th>\n",
       "      <th>Post Month</th>\n",
       "      <th>Post Weekday</th>\n",
       "      <th>Post Hour</th>\n",
       "      <th>Paid</th>\n",
       "      <th>Lifetime Post Total Reach</th>\n",
       "      <th>Lifetime Post Total Impressions</th>\n",
       "      <th>Lifetime Engaged Users</th>\n",
       "      <th>Lifetime Post Consumers</th>\n",
       "      <th>Lifetime Post Consumptions</th>\n",
       "      <th>Lifetime Post Impressions by people who have liked your Page</th>\n",
       "      <th>Lifetime Post reach by people who like your Page</th>\n",
       "      <th>Lifetime People who have liked your Page and engaged with your post</th>\n",
       "      <th>comment</th>\n",
       "      <th>like</th>\n",
       "      <th>share</th>\n",
       "      <th>Total Interactions</th>\n",
       "    </tr>\n",
       "  </thead>\n",
       "  <tbody>\n",
       "    <tr>\n",
       "      <th>0</th>\n",
       "      <td>139441</td>\n",
       "      <td>Photo</td>\n",
       "      <td>2</td>\n",
       "      <td>12</td>\n",
       "      <td>4</td>\n",
       "      <td>3</td>\n",
       "      <td>0.0</td>\n",
       "      <td>2752</td>\n",
       "      <td>5091</td>\n",
       "      <td>178</td>\n",
       "      <td>109</td>\n",
       "      <td>159</td>\n",
       "      <td>3078</td>\n",
       "      <td>1640</td>\n",
       "      <td>119</td>\n",
       "      <td>4</td>\n",
       "      <td>79.0</td>\n",
       "      <td>17.0</td>\n",
       "      <td>100</td>\n",
       "    </tr>\n",
       "    <tr>\n",
       "      <th>1</th>\n",
       "      <td>139441</td>\n",
       "      <td>Status</td>\n",
       "      <td>2</td>\n",
       "      <td>12</td>\n",
       "      <td>3</td>\n",
       "      <td>10</td>\n",
       "      <td>0.0</td>\n",
       "      <td>10460</td>\n",
       "      <td>19057</td>\n",
       "      <td>1457</td>\n",
       "      <td>1361</td>\n",
       "      <td>1674</td>\n",
       "      <td>11710</td>\n",
       "      <td>6112</td>\n",
       "      <td>1108</td>\n",
       "      <td>5</td>\n",
       "      <td>130.0</td>\n",
       "      <td>29.0</td>\n",
       "      <td>164</td>\n",
       "    </tr>\n",
       "    <tr>\n",
       "      <th>2</th>\n",
       "      <td>139441</td>\n",
       "      <td>Photo</td>\n",
       "      <td>3</td>\n",
       "      <td>12</td>\n",
       "      <td>3</td>\n",
       "      <td>3</td>\n",
       "      <td>0.0</td>\n",
       "      <td>2413</td>\n",
       "      <td>4373</td>\n",
       "      <td>177</td>\n",
       "      <td>113</td>\n",
       "      <td>154</td>\n",
       "      <td>2812</td>\n",
       "      <td>1503</td>\n",
       "      <td>132</td>\n",
       "      <td>0</td>\n",
       "      <td>66.0</td>\n",
       "      <td>14.0</td>\n",
       "      <td>80</td>\n",
       "    </tr>\n",
       "    <tr>\n",
       "      <th>3</th>\n",
       "      <td>139441</td>\n",
       "      <td>Photo</td>\n",
       "      <td>2</td>\n",
       "      <td>12</td>\n",
       "      <td>2</td>\n",
       "      <td>10</td>\n",
       "      <td>1.0</td>\n",
       "      <td>50128</td>\n",
       "      <td>87991</td>\n",
       "      <td>2211</td>\n",
       "      <td>790</td>\n",
       "      <td>1119</td>\n",
       "      <td>61027</td>\n",
       "      <td>32048</td>\n",
       "      <td>1386</td>\n",
       "      <td>58</td>\n",
       "      <td>1572.0</td>\n",
       "      <td>147.0</td>\n",
       "      <td>1777</td>\n",
       "    </tr>\n",
       "    <tr>\n",
       "      <th>4</th>\n",
       "      <td>139441</td>\n",
       "      <td>Photo</td>\n",
       "      <td>2</td>\n",
       "      <td>12</td>\n",
       "      <td>2</td>\n",
       "      <td>3</td>\n",
       "      <td>0.0</td>\n",
       "      <td>7244</td>\n",
       "      <td>13594</td>\n",
       "      <td>671</td>\n",
       "      <td>410</td>\n",
       "      <td>580</td>\n",
       "      <td>6228</td>\n",
       "      <td>3200</td>\n",
       "      <td>396</td>\n",
       "      <td>19</td>\n",
       "      <td>325.0</td>\n",
       "      <td>49.0</td>\n",
       "      <td>393</td>\n",
       "    </tr>\n",
       "  </tbody>\n",
       "</table>\n",
       "</div>"
      ],
      "text/plain": [
       "   Page total likes    Type  Category  Post Month  Post Weekday  Post Hour  \\\n",
       "0            139441   Photo         2          12             4          3   \n",
       "1            139441  Status         2          12             3         10   \n",
       "2            139441   Photo         3          12             3          3   \n",
       "3            139441   Photo         2          12             2         10   \n",
       "4            139441   Photo         2          12             2          3   \n",
       "\n",
       "   Paid  Lifetime Post Total Reach  Lifetime Post Total Impressions  \\\n",
       "0   0.0                       2752                             5091   \n",
       "1   0.0                      10460                            19057   \n",
       "2   0.0                       2413                             4373   \n",
       "3   1.0                      50128                            87991   \n",
       "4   0.0                       7244                            13594   \n",
       "\n",
       "   Lifetime Engaged Users  Lifetime Post Consumers  \\\n",
       "0                     178                      109   \n",
       "1                    1457                     1361   \n",
       "2                     177                      113   \n",
       "3                    2211                      790   \n",
       "4                     671                      410   \n",
       "\n",
       "   Lifetime Post Consumptions  \\\n",
       "0                         159   \n",
       "1                        1674   \n",
       "2                         154   \n",
       "3                        1119   \n",
       "4                         580   \n",
       "\n",
       "   Lifetime Post Impressions by people who have liked your Page  \\\n",
       "0                                               3078              \n",
       "1                                              11710              \n",
       "2                                               2812              \n",
       "3                                              61027              \n",
       "4                                               6228              \n",
       "\n",
       "   Lifetime Post reach by people who like your Page  \\\n",
       "0                                              1640   \n",
       "1                                              6112   \n",
       "2                                              1503   \n",
       "3                                             32048   \n",
       "4                                              3200   \n",
       "\n",
       "   Lifetime People who have liked your Page and engaged with your post  \\\n",
       "0                                                119                     \n",
       "1                                               1108                     \n",
       "2                                                132                     \n",
       "3                                               1386                     \n",
       "4                                                396                     \n",
       "\n",
       "   comment    like  share  Total Interactions  \n",
       "0        4    79.0   17.0                 100  \n",
       "1        5   130.0   29.0                 164  \n",
       "2        0    66.0   14.0                  80  \n",
       "3       58  1572.0  147.0                1777  \n",
       "4       19   325.0   49.0                 393  "
      ]
     },
     "execution_count": 2,
     "metadata": {},
     "output_type": "execute_result"
    }
   ],
   "source": [
    "df = pd.read_csv('dataset_Facebook.csv', delimiter=';')\n",
    "df.head()"
   ]
  },
  {
   "cell_type": "markdown",
   "metadata": {},
   "source": [
    "Access df.info overview of data"
   ]
  },
  {
   "cell_type": "code",
   "execution_count": 3,
   "metadata": {},
   "outputs": [
    {
     "name": "stdout",
     "output_type": "stream",
     "text": [
      "<class 'pandas.core.frame.DataFrame'>\n",
      "RangeIndex: 500 entries, 0 to 499\n",
      "Data columns (total 19 columns):\n",
      " #   Column                                                               Non-Null Count  Dtype  \n",
      "---  ------                                                               --------------  -----  \n",
      " 0   Page total likes                                                     500 non-null    int64  \n",
      " 1   Type                                                                 500 non-null    object \n",
      " 2   Category                                                             500 non-null    int64  \n",
      " 3   Post Month                                                           500 non-null    int64  \n",
      " 4   Post Weekday                                                         500 non-null    int64  \n",
      " 5   Post Hour                                                            500 non-null    int64  \n",
      " 6   Paid                                                                 499 non-null    float64\n",
      " 7   Lifetime Post Total Reach                                            500 non-null    int64  \n",
      " 8   Lifetime Post Total Impressions                                      500 non-null    int64  \n",
      " 9   Lifetime Engaged Users                                               500 non-null    int64  \n",
      " 10  Lifetime Post Consumers                                              500 non-null    int64  \n",
      " 11  Lifetime Post Consumptions                                           500 non-null    int64  \n",
      " 12  Lifetime Post Impressions by people who have liked your Page         500 non-null    int64  \n",
      " 13  Lifetime Post reach by people who like your Page                     500 non-null    int64  \n",
      " 14  Lifetime People who have liked your Page and engaged with your post  500 non-null    int64  \n",
      " 15  comment                                                              500 non-null    int64  \n",
      " 16  like                                                                 499 non-null    float64\n",
      " 17  share                                                                496 non-null    float64\n",
      " 18  Total Interactions                                                   500 non-null    int64  \n",
      "dtypes: float64(3), int64(15), object(1)\n",
      "memory usage: 74.3+ KB\n"
     ]
    }
   ],
   "source": [
    "df.info()"
   ]
  },
  {
   "cell_type": "markdown",
   "metadata": {},
   "source": [
    "Drop extra dependent variables not being modeled"
   ]
  },
  {
   "cell_type": "code",
   "execution_count": 4,
   "metadata": {},
   "outputs": [],
   "source": [
    "drop_columns = ['Total Interactions','share','like','comment', 'Lifetime Post Consumptions', \n",
    "                'Lifetime Engaged Users', 'Lifetime Post Total Impressions', 'Lifetime Post Total Reach',\n",
    "                'Lifetime People who have liked your Page and engaged with your post', \n",
    "                'Lifetime Post reach by people who like your Page',\n",
    "                'Lifetime Post Impressions by people who have liked your Page']\n",
    "df.drop(columns = drop_columns, inplace=True)"
   ]
  },
  {
   "cell_type": "markdown",
   "metadata": {},
   "source": [
    "# Scrub Data"
   ]
  },
  {
   "cell_type": "markdown",
   "metadata": {},
   "source": [
    "Access df.info overview of data"
   ]
  },
  {
   "cell_type": "code",
   "execution_count": 5,
   "metadata": {},
   "outputs": [
    {
     "name": "stdout",
     "output_type": "stream",
     "text": [
      "<class 'pandas.core.frame.DataFrame'>\n",
      "RangeIndex: 500 entries, 0 to 499\n",
      "Data columns (total 8 columns):\n",
      " #   Column                   Non-Null Count  Dtype  \n",
      "---  ------                   --------------  -----  \n",
      " 0   Page total likes         500 non-null    int64  \n",
      " 1   Type                     500 non-null    object \n",
      " 2   Category                 500 non-null    int64  \n",
      " 3   Post Month               500 non-null    int64  \n",
      " 4   Post Weekday             500 non-null    int64  \n",
      " 5   Post Hour                500 non-null    int64  \n",
      " 6   Paid                     499 non-null    float64\n",
      " 7   Lifetime Post Consumers  500 non-null    int64  \n",
      "dtypes: float64(1), int64(6), object(1)\n",
      "memory usage: 31.4+ KB\n"
     ]
    }
   ],
   "source": [
    "df.info()"
   ]
  },
  {
   "cell_type": "markdown",
   "metadata": {},
   "source": [
    "Define function to create dummy variables for categorical features and use function to create dummies"
   ]
  },
  {
   "cell_type": "code",
   "execution_count": 6,
   "metadata": {},
   "outputs": [
    {
     "data": {
      "text/html": [
       "<div>\n",
       "<style scoped>\n",
       "    .dataframe tbody tr th:only-of-type {\n",
       "        vertical-align: middle;\n",
       "    }\n",
       "\n",
       "    .dataframe tbody tr th {\n",
       "        vertical-align: top;\n",
       "    }\n",
       "\n",
       "    .dataframe thead th {\n",
       "        text-align: right;\n",
       "    }\n",
       "</style>\n",
       "<table border=\"1\" class=\"dataframe\">\n",
       "  <thead>\n",
       "    <tr style=\"text-align: right;\">\n",
       "      <th></th>\n",
       "      <th>Page total likes</th>\n",
       "      <th>Paid</th>\n",
       "      <th>Lifetime Post Consumers</th>\n",
       "      <th>Type: Photo</th>\n",
       "      <th>Type: Status</th>\n",
       "      <th>Type: Video</th>\n",
       "      <th>Category: 2</th>\n",
       "      <th>Category: 3</th>\n",
       "      <th>Post Month: 2</th>\n",
       "      <th>Post Month: 3</th>\n",
       "      <th>...</th>\n",
       "      <th>Post Hour: 13</th>\n",
       "      <th>Post Hour: 14</th>\n",
       "      <th>Post Hour: 15</th>\n",
       "      <th>Post Hour: 16</th>\n",
       "      <th>Post Hour: 17</th>\n",
       "      <th>Post Hour: 18</th>\n",
       "      <th>Post Hour: 19</th>\n",
       "      <th>Post Hour: 20</th>\n",
       "      <th>Post Hour: 22</th>\n",
       "      <th>Post Hour: 23</th>\n",
       "    </tr>\n",
       "  </thead>\n",
       "  <tbody>\n",
       "    <tr>\n",
       "      <th>0</th>\n",
       "      <td>139441</td>\n",
       "      <td>0.0</td>\n",
       "      <td>109</td>\n",
       "      <td>1</td>\n",
       "      <td>0</td>\n",
       "      <td>0</td>\n",
       "      <td>1</td>\n",
       "      <td>0</td>\n",
       "      <td>0</td>\n",
       "      <td>0</td>\n",
       "      <td>...</td>\n",
       "      <td>0</td>\n",
       "      <td>0</td>\n",
       "      <td>0</td>\n",
       "      <td>0</td>\n",
       "      <td>0</td>\n",
       "      <td>0</td>\n",
       "      <td>0</td>\n",
       "      <td>0</td>\n",
       "      <td>0</td>\n",
       "      <td>0</td>\n",
       "    </tr>\n",
       "    <tr>\n",
       "      <th>1</th>\n",
       "      <td>139441</td>\n",
       "      <td>0.0</td>\n",
       "      <td>1361</td>\n",
       "      <td>0</td>\n",
       "      <td>1</td>\n",
       "      <td>0</td>\n",
       "      <td>1</td>\n",
       "      <td>0</td>\n",
       "      <td>0</td>\n",
       "      <td>0</td>\n",
       "      <td>...</td>\n",
       "      <td>0</td>\n",
       "      <td>0</td>\n",
       "      <td>0</td>\n",
       "      <td>0</td>\n",
       "      <td>0</td>\n",
       "      <td>0</td>\n",
       "      <td>0</td>\n",
       "      <td>0</td>\n",
       "      <td>0</td>\n",
       "      <td>0</td>\n",
       "    </tr>\n",
       "    <tr>\n",
       "      <th>2</th>\n",
       "      <td>139441</td>\n",
       "      <td>0.0</td>\n",
       "      <td>113</td>\n",
       "      <td>1</td>\n",
       "      <td>0</td>\n",
       "      <td>0</td>\n",
       "      <td>0</td>\n",
       "      <td>1</td>\n",
       "      <td>0</td>\n",
       "      <td>0</td>\n",
       "      <td>...</td>\n",
       "      <td>0</td>\n",
       "      <td>0</td>\n",
       "      <td>0</td>\n",
       "      <td>0</td>\n",
       "      <td>0</td>\n",
       "      <td>0</td>\n",
       "      <td>0</td>\n",
       "      <td>0</td>\n",
       "      <td>0</td>\n",
       "      <td>0</td>\n",
       "    </tr>\n",
       "    <tr>\n",
       "      <th>3</th>\n",
       "      <td>139441</td>\n",
       "      <td>1.0</td>\n",
       "      <td>790</td>\n",
       "      <td>1</td>\n",
       "      <td>0</td>\n",
       "      <td>0</td>\n",
       "      <td>1</td>\n",
       "      <td>0</td>\n",
       "      <td>0</td>\n",
       "      <td>0</td>\n",
       "      <td>...</td>\n",
       "      <td>0</td>\n",
       "      <td>0</td>\n",
       "      <td>0</td>\n",
       "      <td>0</td>\n",
       "      <td>0</td>\n",
       "      <td>0</td>\n",
       "      <td>0</td>\n",
       "      <td>0</td>\n",
       "      <td>0</td>\n",
       "      <td>0</td>\n",
       "    </tr>\n",
       "    <tr>\n",
       "      <th>4</th>\n",
       "      <td>139441</td>\n",
       "      <td>0.0</td>\n",
       "      <td>410</td>\n",
       "      <td>1</td>\n",
       "      <td>0</td>\n",
       "      <td>0</td>\n",
       "      <td>1</td>\n",
       "      <td>0</td>\n",
       "      <td>0</td>\n",
       "      <td>0</td>\n",
       "      <td>...</td>\n",
       "      <td>0</td>\n",
       "      <td>0</td>\n",
       "      <td>0</td>\n",
       "      <td>0</td>\n",
       "      <td>0</td>\n",
       "      <td>0</td>\n",
       "      <td>0</td>\n",
       "      <td>0</td>\n",
       "      <td>0</td>\n",
       "      <td>0</td>\n",
       "    </tr>\n",
       "  </tbody>\n",
       "</table>\n",
       "<p>5 rows × 46 columns</p>\n",
       "</div>"
      ],
      "text/plain": [
       "   Page total likes  Paid  Lifetime Post Consumers  Type: Photo  Type: Status  \\\n",
       "0            139441   0.0                      109            1             0   \n",
       "1            139441   0.0                     1361            0             1   \n",
       "2            139441   0.0                      113            1             0   \n",
       "3            139441   1.0                      790            1             0   \n",
       "4            139441   0.0                      410            1             0   \n",
       "\n",
       "   Type: Video  Category: 2  Category: 3  Post Month: 2  Post Month: 3  ...  \\\n",
       "0            0            1            0              0              0  ...   \n",
       "1            0            1            0              0              0  ...   \n",
       "2            0            0            1              0              0  ...   \n",
       "3            0            1            0              0              0  ...   \n",
       "4            0            1            0              0              0  ...   \n",
       "\n",
       "   Post Hour: 13  Post Hour: 14  Post Hour: 15  Post Hour: 16  Post Hour: 17  \\\n",
       "0              0              0              0              0              0   \n",
       "1              0              0              0              0              0   \n",
       "2              0              0              0              0              0   \n",
       "3              0              0              0              0              0   \n",
       "4              0              0              0              0              0   \n",
       "\n",
       "   Post Hour: 18  Post Hour: 19  Post Hour: 20  Post Hour: 22  Post Hour: 23  \n",
       "0              0              0              0              0              0  \n",
       "1              0              0              0              0              0  \n",
       "2              0              0              0              0              0  \n",
       "3              0              0              0              0              0  \n",
       "4              0              0              0              0              0  \n",
       "\n",
       "[5 rows x 46 columns]"
      ]
     },
     "execution_count": 6,
     "metadata": {},
     "output_type": "execute_result"
    }
   ],
   "source": [
    "def create_dummies(df, column):\n",
    "    dummies_df = pd.get_dummies(df[column],drop_first=True)\n",
    "    dummies_df_columns = []\n",
    "    for name in list(df.groupby(column).first().index)[1:]:\n",
    "        dummies_df_columns.append(column+': '+str(name))   \n",
    "    dummies_df.columns = dummies_df_columns\n",
    "    df.drop(columns=[column], inplace=True)\n",
    "    return pd.concat([df,dummies_df], axis = 1)\n",
    "\n",
    "dummy_columns = ['Type','Category', 'Post Month', 'Post Weekday', 'Post Hour']\n",
    "for column in dummy_columns:\n",
    "    df = create_dummies(df, column)\n",
    "df.head()"
   ]
  },
  {
   "cell_type": "markdown",
   "metadata": {},
   "source": [
    "Fill missing values with feature mean value"
   ]
  },
  {
   "cell_type": "code",
   "execution_count": 7,
   "metadata": {},
   "outputs": [],
   "source": [
    "df.fillna(df.mean(), inplace=True)"
   ]
  },
  {
   "cell_type": "markdown",
   "metadata": {},
   "source": [
    "Access df.info overview of scrubbed data"
   ]
  },
  {
   "cell_type": "code",
   "execution_count": 8,
   "metadata": {},
   "outputs": [
    {
     "name": "stdout",
     "output_type": "stream",
     "text": [
      "<class 'pandas.core.frame.DataFrame'>\n",
      "RangeIndex: 500 entries, 0 to 499\n",
      "Data columns (total 46 columns):\n",
      " #   Column                   Non-Null Count  Dtype  \n",
      "---  ------                   --------------  -----  \n",
      " 0   Page total likes         500 non-null    int64  \n",
      " 1   Paid                     500 non-null    float64\n",
      " 2   Lifetime Post Consumers  500 non-null    int64  \n",
      " 3   Type: Photo              500 non-null    uint8  \n",
      " 4   Type: Status             500 non-null    uint8  \n",
      " 5   Type: Video              500 non-null    uint8  \n",
      " 6   Category: 2              500 non-null    uint8  \n",
      " 7   Category: 3              500 non-null    uint8  \n",
      " 8   Post Month: 2            500 non-null    uint8  \n",
      " 9   Post Month: 3            500 non-null    uint8  \n",
      " 10  Post Month: 4            500 non-null    uint8  \n",
      " 11  Post Month: 5            500 non-null    uint8  \n",
      " 12  Post Month: 6            500 non-null    uint8  \n",
      " 13  Post Month: 7            500 non-null    uint8  \n",
      " 14  Post Month: 8            500 non-null    uint8  \n",
      " 15  Post Month: 9            500 non-null    uint8  \n",
      " 16  Post Month: 10           500 non-null    uint8  \n",
      " 17  Post Month: 11           500 non-null    uint8  \n",
      " 18  Post Month: 12           500 non-null    uint8  \n",
      " 19  Post Weekday: 2          500 non-null    uint8  \n",
      " 20  Post Weekday: 3          500 non-null    uint8  \n",
      " 21  Post Weekday: 4          500 non-null    uint8  \n",
      " 22  Post Weekday: 5          500 non-null    uint8  \n",
      " 23  Post Weekday: 6          500 non-null    uint8  \n",
      " 24  Post Weekday: 7          500 non-null    uint8  \n",
      " 25  Post Hour: 2             500 non-null    uint8  \n",
      " 26  Post Hour: 3             500 non-null    uint8  \n",
      " 27  Post Hour: 4             500 non-null    uint8  \n",
      " 28  Post Hour: 5             500 non-null    uint8  \n",
      " 29  Post Hour: 6             500 non-null    uint8  \n",
      " 30  Post Hour: 7             500 non-null    uint8  \n",
      " 31  Post Hour: 8             500 non-null    uint8  \n",
      " 32  Post Hour: 9             500 non-null    uint8  \n",
      " 33  Post Hour: 10            500 non-null    uint8  \n",
      " 34  Post Hour: 11            500 non-null    uint8  \n",
      " 35  Post Hour: 12            500 non-null    uint8  \n",
      " 36  Post Hour: 13            500 non-null    uint8  \n",
      " 37  Post Hour: 14            500 non-null    uint8  \n",
      " 38  Post Hour: 15            500 non-null    uint8  \n",
      " 39  Post Hour: 16            500 non-null    uint8  \n",
      " 40  Post Hour: 17            500 non-null    uint8  \n",
      " 41  Post Hour: 18            500 non-null    uint8  \n",
      " 42  Post Hour: 19            500 non-null    uint8  \n",
      " 43  Post Hour: 20            500 non-null    uint8  \n",
      " 44  Post Hour: 22            500 non-null    uint8  \n",
      " 45  Post Hour: 23            500 non-null    uint8  \n",
      "dtypes: float64(1), int64(2), uint8(43)\n",
      "memory usage: 32.8 KB\n"
     ]
    }
   ],
   "source": [
    "df.info()"
   ]
  },
  {
   "cell_type": "markdown",
   "metadata": {},
   "source": [
    "# Explore data"
   ]
  },
  {
   "cell_type": "markdown",
   "metadata": {},
   "source": [
    "Access descriptive statistics of dependent variable, 'Lifetime Post Consumers'"
   ]
  },
  {
   "cell_type": "code",
   "execution_count": 9,
   "metadata": {},
   "outputs": [
    {
     "data": {
      "text/plain": [
       "count      500.000000\n",
       "mean       798.772000\n",
       "std        882.505013\n",
       "min          9.000000\n",
       "25%        332.500000\n",
       "50%        551.500000\n",
       "75%        955.500000\n",
       "max      11328.000000\n",
       "Name: Lifetime Post Consumers, dtype: float64"
      ]
     },
     "execution_count": 9,
     "metadata": {},
     "output_type": "execute_result"
    }
   ],
   "source": [
    "df['Lifetime Post Consumers'].describe()"
   ]
  },
  {
   "cell_type": "markdown",
   "metadata": {},
   "source": [
    "Create boxplot for dependent variable, 'Lifetime Post Consumers'"
   ]
  },
  {
   "cell_type": "code",
   "execution_count": 10,
   "metadata": {},
   "outputs": [
    {
     "data": {
      "text/plain": [
       "Text(0.5, 1.0, 'Lifetime Post Consumers Boxplot')"
      ]
     },
     "execution_count": 10,
     "metadata": {},
     "output_type": "execute_result"
    },
    {
     "data": {
      "image/png": "[encoded data removed]",
      "text/plain": [
       "<Figure size 432x288 with 1 Axes>"
      ]
     },
     "metadata": {
      "needs_background": "light"
     },
     "output_type": "display_data"
    }
   ],
   "source": [
    "fig, ax = plt.subplots()\n",
    "ax.boxplot(df['Lifetime Post Consumers'])\n",
    "ax.set_xticklabels(['Lifetime Post Consumers'])\n",
    "ax.set_ylabel('# Consumers')\n",
    "ax.set_title('Lifetime Post Consumers Boxplot')"
   ]
  },
  {
   "cell_type": "markdown",
   "metadata": {},
   "source": [
    "View top outliers for independent variable, 'Lifetime Post Consumers'"
   ]
  },
  {
   "cell_type": "code",
   "execution_count": 11,
   "metadata": {},
   "outputs": [
    {
     "data": {
      "text/plain": [
       "446    11328\n",
       "142     5934\n",
       "38      5202\n",
       "172     4754\n",
       "10      4100\n",
       "244     4010\n",
       "243     3822\n",
       "275     3682\n",
       "460     3586\n",
       "46      3464\n",
       "223     3244\n",
       "482     2833\n",
       "225     2781\n",
       "121     2654\n",
       "105     2628\n",
       "175     2584\n",
       "109     2570\n",
       "371     2567\n",
       "26      2531\n",
       "272     2495\n",
       "Name: Lifetime Post Consumers, dtype: int64"
      ]
     },
     "execution_count": 11,
     "metadata": {},
     "output_type": "execute_result"
    }
   ],
   "source": [
    "df['Lifetime Post Consumers'].sort_values(ascending=False)[0:20]"
   ]
  },
  {
   "cell_type": "markdown",
   "metadata": {},
   "source": [
    "Create pairplots to represent the relationship between each feature and the dependent variable"
   ]
  },
  {
   "cell_type": "code",
   "execution_count": 12,
   "metadata": {},
   "outputs": [
    {
     "data": {
      "image/png": "[encoded data removed]",
      "text/plain": [
       "<Figure size 720x180 with 4 Axes>"
      ]
     },
     "metadata": {
      "needs_background": "light"
     },
     "output_type": "display_data"
    },
    {
     "data": {
      "image/png": "[encoded data removed]",
      "text/plain": [
       "<Figure size 720x180 with 4 Axes>"
      ]
     },
     "metadata": {
      "needs_background": "light"
     },
     "output_type": "display_data"
    },
    {
     "data": {
      "image/png": "[encoded data removed]",
      "text/plain": [
       "<Figure size 720x180 with 4 Axes>"
      ]
     },
     "metadata": {
      "needs_background": "light"
     },
     "output_type": "display_data"
    },
    {
     "data": {
      "image/png": "[encoded data removed]",
      "text/plain": [
       "<Figure size 720x180 with 4 Axes>"
      ]
     },
     "metadata": {
      "needs_background": "light"
     },
     "output_type": "display_data"
    },
    {
     "data": {
      "image/png": "[encoded data removed]",
      "text/plain": [
       "<Figure size 720x180 with 4 Axes>"
      ]
     },
     "metadata": {
      "needs_background": "light"
     },
     "output_type": "display_data"
    },
    {
     "data": {
      "image/png": "[encoded data removed]",
      "text/plain": [
       "<Figure size 720x180 with 4 Axes>"
      ]
     },
     "metadata": {
      "needs_background": "light"
     },
     "output_type": "display_data"
    },
    {
     "data": {
      "image/png": "[encoded data removed]",
      "text/plain": [
       "<Figure size 720x180 with 4 Axes>"
      ]
     },
     "metadata": {
      "needs_background": "light"
     },
     "output_type": "display_data"
    },
    {
     "data": {
      "image/png": "[encoded data removed]",
      "text/plain": [
       "<Figure size 720x180 with 4 Axes>"
      ]
     },
     "metadata": {
      "needs_background": "light"
     },
     "output_type": "display_data"
    },
    {
     "data": {
      "image/png": "[encoded data removed]",
      "text/plain": [
       "<Figure size 720x180 with 4 Axes>"
      ]
     },
     "metadata": {
      "needs_background": "light"
     },
     "output_type": "display_data"
    },
    {
     "data": {
      "image/png": "[encoded data removed]",
      "text/plain": [
       "<Figure size 720x180 with 4 Axes>"
      ]
     },
     "metadata": {
      "needs_background": "light"
     },
     "output_type": "display_data"
    },
    {
     "data": {
      "image/png": "[encoded data removed]",
      "text/plain": [
       "<Figure size 720x180 with 4 Axes>"
      ]
     },
     "metadata": {
      "needs_background": "light"
     },
     "output_type": "display_data"
    },
    {
     "data": {
      "image/png": "[encoded data removed]",
      "text/plain": [
       "<Figure size 360x180 with 2 Axes>"
      ]
     },
     "metadata": {
      "needs_background": "light"
     },
     "output_type": "display_data"
    }
   ],
   "source": [
    "cols_list = [list(df.columns)[num:num+4] for num in range(0,len(df.columns),4) ]\n",
    "for cols in cols_list:\n",
    "    sns.pairplot(df, x_vars = cols, y_vars=['Lifetime Post Consumers'], kind='reg')"
   ]
  },
  {
   "cell_type": "markdown",
   "metadata": {},
   "source": [
    "Create heatmap to represent correlations in dataset"
   ]
  },
  {
   "cell_type": "code",
   "execution_count": 13,
   "metadata": {},
   "outputs": [
    {
     "data": {
      "text/plain": [
       "Text(0.5, 1, 'Feature Correlation Heatmap')"
      ]
     },
     "execution_count": 13,
     "metadata": {},
     "output_type": "execute_result"
    },
    {
     "data": {
      "image/png": "[encoded data removed]",
      "text/plain": [
       "<Figure size 432x288 with 2 Axes>"
      ]
     },
     "metadata": {
      "needs_background": "light"
     },
     "output_type": "display_data"
    }
   ],
   "source": [
    "sns.heatmap(df.corr()).set_title('Feature Correlation Heatmap')"
   ]
  },
  {
   "cell_type": "markdown",
   "metadata": {},
   "source": [
    "View numerical values for most correlated features from the above heatmap"
   ]
  },
  {
   "cell_type": "code",
   "execution_count": 14,
   "metadata": {},
   "outputs": [
    {
     "data": {
      "text/html": [
       "<div>\n",
       "<style scoped>\n",
       "    .dataframe tbody tr th:only-of-type {\n",
       "        vertical-align: middle;\n",
       "    }\n",
       "\n",
       "    .dataframe tbody tr th {\n",
       "        vertical-align: top;\n",
       "    }\n",
       "\n",
       "    .dataframe thead th {\n",
       "        text-align: right;\n",
       "    }\n",
       "</style>\n",
       "<table border=\"1\" class=\"dataframe\">\n",
       "  <thead>\n",
       "    <tr style=\"text-align: right;\">\n",
       "      <th></th>\n",
       "      <th>Page total likes</th>\n",
       "      <th>Paid</th>\n",
       "      <th>Lifetime Post Consumers</th>\n",
       "      <th>Type: Photo</th>\n",
       "      <th>Type: Status</th>\n",
       "      <th>Type: Video</th>\n",
       "      <th>Category: 2</th>\n",
       "      <th>Category: 3</th>\n",
       "      <th>Post Month: 2</th>\n",
       "      <th>Post Month: 3</th>\n",
       "      <th>...</th>\n",
       "      <th>Post Hour: 13</th>\n",
       "      <th>Post Hour: 14</th>\n",
       "      <th>Post Hour: 15</th>\n",
       "      <th>Post Hour: 16</th>\n",
       "      <th>Post Hour: 17</th>\n",
       "      <th>Post Hour: 18</th>\n",
       "      <th>Post Hour: 19</th>\n",
       "      <th>Post Hour: 20</th>\n",
       "      <th>Post Hour: 22</th>\n",
       "      <th>Post Hour: 23</th>\n",
       "    </tr>\n",
       "  </thead>\n",
       "  <tbody>\n",
       "    <tr>\n",
       "      <th>Page total likes</th>\n",
       "      <td>1.000000</td>\n",
       "      <td>0.005306</td>\n",
       "      <td>-0.149129</td>\n",
       "      <td>-0.123977</td>\n",
       "      <td>0.182867</td>\n",
       "      <td>0.086644</td>\n",
       "      <td>0.199087</td>\n",
       "      <td>-0.178341</td>\n",
       "      <td>-0.444418</td>\n",
       "      <td>-0.389085</td>\n",
       "      <td>...</td>\n",
       "      <td>-0.194140</td>\n",
       "      <td>-0.089703</td>\n",
       "      <td>-0.131376</td>\n",
       "      <td>-0.099920</td>\n",
       "      <td>-0.107351</td>\n",
       "      <td>-0.102954</td>\n",
       "      <td>-0.058055</td>\n",
       "      <td>-0.037242</td>\n",
       "      <td>0.008115</td>\n",
       "      <td>0.023230</td>\n",
       "    </tr>\n",
       "    <tr>\n",
       "      <th>Paid</th>\n",
       "      <td>0.005306</td>\n",
       "      <td>1.000000</td>\n",
       "      <td>0.097669</td>\n",
       "      <td>0.007712</td>\n",
       "      <td>-0.039560</td>\n",
       "      <td>0.077925</td>\n",
       "      <td>-0.040052</td>\n",
       "      <td>-0.001703</td>\n",
       "      <td>0.015237</td>\n",
       "      <td>-0.035039</td>\n",
       "      <td>...</td>\n",
       "      <td>0.007535</td>\n",
       "      <td>-0.017434</td>\n",
       "      <td>-0.027535</td>\n",
       "      <td>0.072115</td>\n",
       "      <td>-0.048325</td>\n",
       "      <td>-0.048325</td>\n",
       "      <td>-0.027845</td>\n",
       "      <td>-0.027845</td>\n",
       "      <td>0.072115</td>\n",
       "      <td>-0.027845</td>\n",
       "    </tr>\n",
       "    <tr>\n",
       "      <th>Lifetime Post Consumers</th>\n",
       "      <td>-0.149129</td>\n",
       "      <td>0.097669</td>\n",
       "      <td>1.000000</td>\n",
       "      <td>-0.294846</td>\n",
       "      <td>0.410499</td>\n",
       "      <td>0.106227</td>\n",
       "      <td>0.130147</td>\n",
       "      <td>-0.090423</td>\n",
       "      <td>0.152065</td>\n",
       "      <td>0.043734</td>\n",
       "      <td>...</td>\n",
       "      <td>0.051603</td>\n",
       "      <td>0.024733</td>\n",
       "      <td>-0.034744</td>\n",
       "      <td>0.017479</td>\n",
       "      <td>0.013768</td>\n",
       "      <td>-0.030354</td>\n",
       "      <td>-0.033349</td>\n",
       "      <td>0.001992</td>\n",
       "      <td>0.003109</td>\n",
       "      <td>-0.022737</td>\n",
       "    </tr>\n",
       "    <tr>\n",
       "      <th>Type: Photo</th>\n",
       "      <td>-0.123977</td>\n",
       "      <td>0.007712</td>\n",
       "      <td>-0.294846</td>\n",
       "      <td>1.000000</td>\n",
       "      <td>-0.754553</td>\n",
       "      <td>-0.285900</td>\n",
       "      <td>-0.253725</td>\n",
       "      <td>0.218472</td>\n",
       "      <td>0.072246</td>\n",
       "      <td>0.028936</td>\n",
       "      <td>...</td>\n",
       "      <td>0.086644</td>\n",
       "      <td>-0.002690</td>\n",
       "      <td>-0.005793</td>\n",
       "      <td>0.018658</td>\n",
       "      <td>0.032381</td>\n",
       "      <td>0.032381</td>\n",
       "      <td>0.018658</td>\n",
       "      <td>0.018658</td>\n",
       "      <td>0.018658</td>\n",
       "      <td>0.018658</td>\n",
       "    </tr>\n",
       "    <tr>\n",
       "      <th>Type: Status</th>\n",
       "      <td>0.182867</td>\n",
       "      <td>-0.039560</td>\n",
       "      <td>0.410499</td>\n",
       "      <td>-0.754553</td>\n",
       "      <td>1.000000</td>\n",
       "      <td>-0.037474</td>\n",
       "      <td>0.419026</td>\n",
       "      <td>-0.150351</td>\n",
       "      <td>-0.073654</td>\n",
       "      <td>-0.060561</td>\n",
       "      <td>...</td>\n",
       "      <td>-0.084249</td>\n",
       "      <td>-0.007466</td>\n",
       "      <td>0.029524</td>\n",
       "      <td>-0.014078</td>\n",
       "      <td>-0.024433</td>\n",
       "      <td>-0.024433</td>\n",
       "      <td>-0.014078</td>\n",
       "      <td>-0.014078</td>\n",
       "      <td>-0.014078</td>\n",
       "      <td>-0.014078</td>\n",
       "    </tr>\n",
       "    <tr>\n",
       "      <th>Type: Video</th>\n",
       "      <td>0.086644</td>\n",
       "      <td>0.077925</td>\n",
       "      <td>0.106227</td>\n",
       "      <td>-0.285900</td>\n",
       "      <td>-0.037474</td>\n",
       "      <td>1.000000</td>\n",
       "      <td>-0.070631</td>\n",
       "      <td>-0.079870</td>\n",
       "      <td>-0.027908</td>\n",
       "      <td>-0.033191</td>\n",
       "      <td>...</td>\n",
       "      <td>0.015168</td>\n",
       "      <td>-0.019469</td>\n",
       "      <td>-0.013132</td>\n",
       "      <td>-0.005334</td>\n",
       "      <td>-0.009258</td>\n",
       "      <td>-0.009258</td>\n",
       "      <td>-0.005334</td>\n",
       "      <td>-0.005334</td>\n",
       "      <td>-0.005334</td>\n",
       "      <td>-0.005334</td>\n",
       "    </tr>\n",
       "    <tr>\n",
       "      <th>Category: 2</th>\n",
       "      <td>0.199087</td>\n",
       "      <td>-0.040052</td>\n",
       "      <td>0.130147</td>\n",
       "      <td>-0.253725</td>\n",
       "      <td>0.419026</td>\n",
       "      <td>-0.070631</td>\n",
       "      <td>1.000000</td>\n",
       "      <td>-0.397308</td>\n",
       "      <td>-0.077216</td>\n",
       "      <td>-0.129827</td>\n",
       "      <td>...</td>\n",
       "      <td>-0.097388</td>\n",
       "      <td>0.017765</td>\n",
       "      <td>-0.065326</td>\n",
       "      <td>-0.026535</td>\n",
       "      <td>-0.046053</td>\n",
       "      <td>-0.046053</td>\n",
       "      <td>-0.026535</td>\n",
       "      <td>-0.026535</td>\n",
       "      <td>-0.026535</td>\n",
       "      <td>-0.026535</td>\n",
       "    </tr>\n",
       "    <tr>\n",
       "      <th>Category: 3</th>\n",
       "      <td>-0.178341</td>\n",
       "      <td>-0.001703</td>\n",
       "      <td>-0.090423</td>\n",
       "      <td>0.218472</td>\n",
       "      <td>-0.150351</td>\n",
       "      <td>-0.079870</td>\n",
       "      <td>-0.397308</td>\n",
       "      <td>1.000000</td>\n",
       "      <td>0.057262</td>\n",
       "      <td>-0.136513</td>\n",
       "      <td>...</td>\n",
       "      <td>0.097464</td>\n",
       "      <td>-0.000815</td>\n",
       "      <td>-0.034155</td>\n",
       "      <td>0.066787</td>\n",
       "      <td>-0.052076</td>\n",
       "      <td>-0.052076</td>\n",
       "      <td>-0.030006</td>\n",
       "      <td>0.066787</td>\n",
       "      <td>-0.030006</td>\n",
       "      <td>0.066787</td>\n",
       "    </tr>\n",
       "    <tr>\n",
       "      <th>Post Month: 2</th>\n",
       "      <td>-0.444418</td>\n",
       "      <td>0.015237</td>\n",
       "      <td>0.152065</td>\n",
       "      <td>0.072246</td>\n",
       "      <td>-0.073654</td>\n",
       "      <td>-0.027908</td>\n",
       "      <td>-0.077216</td>\n",
       "      <td>0.057262</td>\n",
       "      <td>1.000000</td>\n",
       "      <td>-0.065236</td>\n",
       "      <td>...</td>\n",
       "      <td>0.185788</td>\n",
       "      <td>-0.038265</td>\n",
       "      <td>-0.025811</td>\n",
       "      <td>-0.010484</td>\n",
       "      <td>-0.018196</td>\n",
       "      <td>-0.018196</td>\n",
       "      <td>-0.010484</td>\n",
       "      <td>-0.010484</td>\n",
       "      <td>-0.010484</td>\n",
       "      <td>-0.010484</td>\n",
       "    </tr>\n",
       "    <tr>\n",
       "      <th>Post Month: 3</th>\n",
       "      <td>-0.389085</td>\n",
       "      <td>-0.035039</td>\n",
       "      <td>0.043734</td>\n",
       "      <td>0.028936</td>\n",
       "      <td>-0.060561</td>\n",
       "      <td>-0.033191</td>\n",
       "      <td>-0.129827</td>\n",
       "      <td>-0.136513</td>\n",
       "      <td>-0.065236</td>\n",
       "      <td>1.000000</td>\n",
       "      <td>...</td>\n",
       "      <td>-0.018858</td>\n",
       "      <td>0.100354</td>\n",
       "      <td>0.324599</td>\n",
       "      <td>-0.012469</td>\n",
       "      <td>0.278927</td>\n",
       "      <td>0.278927</td>\n",
       "      <td>0.160715</td>\n",
       "      <td>-0.012469</td>\n",
       "      <td>-0.012469</td>\n",
       "      <td>-0.012469</td>\n",
       "    </tr>\n",
       "  </tbody>\n",
       "</table>\n",
       "<p>10 rows × 46 columns</p>\n",
       "</div>"
      ],
      "text/plain": [
       "                         Page total likes      Paid  Lifetime Post Consumers  \\\n",
       "Page total likes                 1.000000  0.005306                -0.149129   \n",
       "Paid                             0.005306  1.000000                 0.097669   \n",
       "Lifetime Post Consumers         -0.149129  0.097669                 1.000000   \n",
       "Type: Photo                     -0.123977  0.007712                -0.294846   \n",
       "Type: Status                     0.182867 -0.039560                 0.410499   \n",
       "Type: Video                      0.086644  0.077925                 0.106227   \n",
       "Category: 2                      0.199087 -0.040052                 0.130147   \n",
       "Category: 3                     -0.178341 -0.001703                -0.090423   \n",
       "Post Month: 2                   -0.444418  0.015237                 0.152065   \n",
       "Post Month: 3                   -0.389085 -0.035039                 0.043734   \n",
       "\n",
       "                         Type: Photo  Type: Status  Type: Video  Category: 2  \\\n",
       "Page total likes           -0.123977      0.182867     0.086644     0.199087   \n",
       "Paid                        0.007712     -0.039560     0.077925    -0.040052   \n",
       "Lifetime Post Consumers    -0.294846      0.410499     0.106227     0.130147   \n",
       "Type: Photo                 1.000000     -0.754553    -0.285900    -0.253725   \n",
       "Type: Status               -0.754553      1.000000    -0.037474     0.419026   \n",
       "Type: Video                -0.285900     -0.037474     1.000000    -0.070631   \n",
       "Category: 2                -0.253725      0.419026    -0.070631     1.000000   \n",
       "Category: 3                 0.218472     -0.150351    -0.079870    -0.397308   \n",
       "Post Month: 2               0.072246     -0.073654    -0.027908    -0.077216   \n",
       "Post Month: 3               0.028936     -0.060561    -0.033191    -0.129827   \n",
       "\n",
       "                         Category: 3  Post Month: 2  Post Month: 3  ...  \\\n",
       "Page total likes           -0.178341      -0.444418      -0.389085  ...   \n",
       "Paid                       -0.001703       0.015237      -0.035039  ...   \n",
       "Lifetime Post Consumers    -0.090423       0.152065       0.043734  ...   \n",
       "Type: Photo                 0.218472       0.072246       0.028936  ...   \n",
       "Type: Status               -0.150351      -0.073654      -0.060561  ...   \n",
       "Type: Video                -0.079870      -0.027908      -0.033191  ...   \n",
       "Category: 2                -0.397308      -0.077216      -0.129827  ...   \n",
       "Category: 3                 1.000000       0.057262      -0.136513  ...   \n",
       "Post Month: 2               0.057262       1.000000      -0.065236  ...   \n",
       "Post Month: 3              -0.136513      -0.065236       1.000000  ...   \n",
       "\n",
       "                         Post Hour: 13  Post Hour: 14  Post Hour: 15  \\\n",
       "Page total likes             -0.194140      -0.089703      -0.131376   \n",
       "Paid                          0.007535      -0.017434      -0.027535   \n",
       "Lifetime Post Consumers       0.051603       0.024733      -0.034744   \n",
       "Type: Photo                   0.086644      -0.002690      -0.005793   \n",
       "Type: Status                 -0.084249      -0.007466       0.029524   \n",
       "Type: Video                   0.015168      -0.019469      -0.013132   \n",
       "Category: 2                  -0.097388       0.017765      -0.065326   \n",
       "Category: 3                   0.097464      -0.000815      -0.034155   \n",
       "Post Month: 2                 0.185788      -0.038265      -0.025811   \n",
       "Post Month: 3                -0.018858       0.100354       0.324599   \n",
       "\n",
       "                         Post Hour: 16  Post Hour: 17  Post Hour: 18  \\\n",
       "Page total likes             -0.099920      -0.107351      -0.102954   \n",
       "Paid                          0.072115      -0.048325      -0.048325   \n",
       "Lifetime Post Consumers       0.017479       0.013768      -0.030354   \n",
       "Type: Photo                   0.018658       0.032381       0.032381   \n",
       "Type: Status                 -0.014078      -0.024433      -0.024433   \n",
       "Type: Video                  -0.005334      -0.009258      -0.009258   \n",
       "Category: 2                  -0.026535      -0.046053      -0.046053   \n",
       "Category: 3                   0.066787      -0.052076      -0.052076   \n",
       "Post Month: 2                -0.010484      -0.018196      -0.018196   \n",
       "Post Month: 3                -0.012469       0.278927       0.278927   \n",
       "\n",
       "                         Post Hour: 19  Post Hour: 20  Post Hour: 22  \\\n",
       "Page total likes             -0.058055      -0.037242       0.008115   \n",
       "Paid                         -0.027845      -0.027845       0.072115   \n",
       "Lifetime Post Consumers      -0.033349       0.001992       0.003109   \n",
       "Type: Photo                   0.018658       0.018658       0.018658   \n",
       "Type: Status                 -0.014078      -0.014078      -0.014078   \n",
       "Type: Video                  -0.005334      -0.005334      -0.005334   \n",
       "Category: 2                  -0.026535      -0.026535      -0.026535   \n",
       "Category: 3                  -0.030006       0.066787      -0.030006   \n",
       "Post Month: 2                -0.010484      -0.010484      -0.010484   \n",
       "Post Month: 3                 0.160715      -0.012469      -0.012469   \n",
       "\n",
       "                         Post Hour: 23  \n",
       "Page total likes              0.023230  \n",
       "Paid                         -0.027845  \n",
       "Lifetime Post Consumers      -0.022737  \n",
       "Type: Photo                   0.018658  \n",
       "Type: Status                 -0.014078  \n",
       "Type: Video                  -0.005334  \n",
       "Category: 2                  -0.026535  \n",
       "Category: 3                   0.066787  \n",
       "Post Month: 2                -0.010484  \n",
       "Post Month: 3                -0.012469  \n",
       "\n",
       "[10 rows x 46 columns]"
      ]
     },
     "execution_count": 14,
     "metadata": {},
     "output_type": "execute_result"
    }
   ],
   "source": [
    "df.corr()[0:10]"
   ]
  },
  {
   "cell_type": "markdown",
   "metadata": {},
   "source": [
    "# Model data"
   ]
  },
  {
   "cell_type": "markdown",
   "metadata": {},
   "source": [
    "Create x and y variables form df"
   ]
  },
  {
   "cell_type": "code",
   "execution_count": 20,
   "metadata": {},
   "outputs": [],
   "source": [
    "x_columns = df.columns\n",
    "x_columns = x_columns.drop('Lifetime Post Consumers')\n",
    "x = df[x_columns]\n",
    "y = df['Lifetime Post Consumers']"
   ]
  },
  {
   "cell_type": "markdown",
   "metadata": {},
   "source": [
    "Perform Train Test Split"
   ]
  },
  {
   "cell_type": "code",
   "execution_count": 21,
   "metadata": {},
   "outputs": [],
   "source": [
    "x_train, x_test, y_train, y_test = train_test_split(x,y,random_state=27)"
   ]
  },
  {
   "cell_type": "markdown",
   "metadata": {},
   "source": [
    "Scale data using standard scaler"
   ]
  },
  {
   "cell_type": "code",
   "execution_count": 17,
   "metadata": {},
   "outputs": [],
   "source": [
    "ss = StandardScaler()\n",
    "ss.fit(x_train)\n",
    "x_train = ss.transform(x_train)\n",
    "x_test = ss.transform(x_test)"
   ]
  },
  {
   "cell_type": "markdown",
   "metadata": {},
   "source": [
    "Build Dummy Regressor model"
   ]
  },
  {
   "cell_type": "code",
   "execution_count": 18,
   "metadata": {},
   "outputs": [
    {
     "name": "stdout",
     "output_type": "stream",
     "text": [
      "dr train RMSE 855.2104111204965\n",
      "dr test RMSE 957.8603745524595\n",
      "dr train MAE 503.4331733333333\n",
      "dr test MAE 572.1128533333336\n"
     ]
    }
   ],
   "source": [
    "dr = DummyRegressor()\n",
    "dr.fit(x_train, y_train)\n",
    "y_train_pred_dr = dr.predict(x_train)\n",
    "y_test_pred_dr = dr.predict(x_test)\n",
    "print('dr train RMSE', sqrt(mean_squared_error(y_train, y_train_pred_dr)))\n",
    "print('dr test RMSE', sqrt(mean_squared_error(y_test, y_test_pred_dr)))\n",
    "print('dr train MAE', mean_absolute_error(y_train, y_train_pred_dr))\n",
    "print('dr test MAE', mean_absolute_error(y_test, y_test_pred_dr))"
   ]
  },
  {
   "cell_type": "markdown",
   "metadata": {},
   "source": [
    "Build Linear Regression Model"
   ]
  },
  {
   "cell_type": "code",
   "execution_count": 19,
   "metadata": {},
   "outputs": [
    {
     "name": "stdout",
     "output_type": "stream",
     "text": [
      "lr train RMSE 708.59606669555\n",
      "lr test RMSE 810.6117158452463\n",
      "lr train MAE 381.8925727895999\n",
      "lr test MAE 500.56111709046655\n"
     ]
    }
   ],
   "source": [
    "lr = LinearRegression()\n",
    "lr.fit(x_train, y_train)\n",
    "y_train_pred_lr = lr.predict(x_train)\n",
    "y_test_pred_lr = lr.predict(x_test)\n",
    "print('lr train RMSE', sqrt(mean_squared_error(y_train, y_train_pred_lr)))\n",
    "print('lr test RMSE', sqrt(mean_squared_error(y_test, y_test_pred_lr)))\n",
    "print('lr train MAE', mean_absolute_error(y_train, y_train_pred_lr))\n",
    "print('lr test MAE', mean_absolute_error(y_test, y_test_pred_lr))"
   ]
  },
  {
   "cell_type": "code",
   "execution_count": 20,
   "metadata": {},
   "outputs": [
    {
     "data": {
      "text/plain": [
       "1.0864663286259484"
      ]
     },
     "execution_count": 20,
     "metadata": {},
     "output_type": "execute_result"
    }
   ],
   "source": [
    "sum(abs((y_train_pred_lr-y_train)/y_train))/len(y_train)"
   ]
  },
  {
   "cell_type": "markdown",
   "metadata": {},
   "source": [
    "Build Lasso Regression model"
   ]
  },
  {
   "cell_type": "code",
   "execution_count": 21,
   "metadata": {},
   "outputs": [
    {
     "name": "stdout",
     "output_type": "stream",
     "text": [
      "Fitting 5 folds for each of 99 candidates, totalling 495 fits\n"
     ]
    },
    {
     "name": "stderr",
     "output_type": "stream",
     "text": [
      "[Parallel(n_jobs=-1)]: Using backend LokyBackend with 4 concurrent workers.\n",
      "[Parallel(n_jobs=-1)]: Done  68 tasks      | elapsed:    2.8s\n"
     ]
    },
    {
     "name": "stdout",
     "output_type": "stream",
     "text": [
      "{'alpha': 47}\n",
      "lasso train RMSE 759.5177587936113\n",
      "lasso test RMSE 809.6999199488888\n",
      "lasso train MAE 393.33653612061914\n",
      "lasso test MAE 466.82151581338456\n"
     ]
    },
    {
     "name": "stderr",
     "output_type": "stream",
     "text": [
      "[Parallel(n_jobs=-1)]: Done 488 out of 495 | elapsed:    3.4s remaining:    0.0s\n",
      "[Parallel(n_jobs=-1)]: Done 495 out of 495 | elapsed:    3.4s finished\n"
     ]
    }
   ],
   "source": [
    "lasso_dict = {'alpha': range(1, 100)}\n",
    "lasso_model = Lasso()\n",
    "lasso = GridSearchCV(lasso_model,lasso_dict, cv=5, n_jobs=-1, \n",
    "                     scoring='neg_root_mean_squared_error', verbose=1) \n",
    "lasso.fit(x_train, y_train)\n",
    "print(lasso.best_params_)\n",
    "y_train_pred_lasso = lasso.predict(x_train)\n",
    "y_test_pred_lasso = lasso.predict(x_test)\n",
    "print('lasso train RMSE', sqrt(mean_squared_error(y_train, y_train_pred_lasso)))\n",
    "print('lasso test RMSE', sqrt(mean_squared_error(y_test, y_test_pred_lasso)))\n",
    "print('lasso train MAE', mean_absolute_error(y_train, y_train_pred_lasso))\n",
    "print('lasso test MAE', mean_absolute_error(y_test, y_test_pred_lasso))"
   ]
  },
  {
   "cell_type": "markdown",
   "metadata": {},
   "source": [
    "Build Ridge Regression model"
   ]
  },
  {
   "cell_type": "code",
   "execution_count": 22,
   "metadata": {},
   "outputs": [
    {
     "name": "stderr",
     "output_type": "stream",
     "text": [
      "[Parallel(n_jobs=-1)]: Using backend LokyBackend with 4 concurrent workers.\n"
     ]
    },
    {
     "name": "stdout",
     "output_type": "stream",
     "text": [
      "Fitting 5 folds for each of 1000 candidates, totalling 5000 fits\n"
     ]
    },
    {
     "name": "stderr",
     "output_type": "stream",
     "text": [
      "[Parallel(n_jobs=-1)]: Done 312 tasks      | elapsed:    0.6s\n"
     ]
    },
    {
     "name": "stdout",
     "output_type": "stream",
     "text": [
      "{'alpha': 173.20000000000002}\n",
      "ridge train RMSE 745.6097349014077\n",
      "ridge test RMSE 815.1054389120417\n",
      "ridge train MAE 384.21244857074475\n",
      "ridge test MAE 466.13527738100964\n"
     ]
    },
    {
     "name": "stderr",
     "output_type": "stream",
     "text": [
      "[Parallel(n_jobs=-1)]: Done 5000 out of 5000 | elapsed:    6.3s finished\n"
     ]
    }
   ],
   "source": [
    "ridge_dict = {'alpha': [x * 0.1 for x in range(1000, 2000)]}\n",
    "ridge_model = Ridge()\n",
    "ridge = GridSearchCV(ridge_model,ridge_dict, cv=5, n_jobs=-1, \n",
    "                     scoring='neg_root_mean_squared_error', verbose=1) \n",
    "ridge.fit(x_train, y_train)\n",
    "print(ridge.best_params_)\n",
    "y_train_pred_ridge = ridge.predict(x_train)\n",
    "y_test_pred_ridge = ridge.predict(x_test)\n",
    "print('ridge train RMSE', sqrt(mean_squared_error(y_train, y_train_pred_ridge)))\n",
    "print('ridge test RMSE', sqrt(mean_squared_error(y_test, y_test_pred_ridge)))\n",
    "print('ridge train MAE', mean_absolute_error(y_train, y_train_pred_ridge))\n",
    "print('ridge test MAE', mean_absolute_error(y_test, y_test_pred_ridge))"
   ]
  },
  {
   "cell_type": "markdown",
   "metadata": {},
   "source": [
    "Build Random Forest Regression model"
   ]
  },
  {
   "cell_type": "code",
   "execution_count": 26,
   "metadata": {},
   "outputs": [
    {
     "name": "stdout",
     "output_type": "stream",
     "text": [
      "Fitting 5 folds for each of 300 candidates, totalling 1500 fits\n"
     ]
    },
    {
     "name": "stderr",
     "output_type": "stream",
     "text": [
      "[Parallel(n_jobs=-1)]: Using backend LokyBackend with 4 concurrent workers.\n",
      "[Parallel(n_jobs=-1)]: Done  42 tasks      | elapsed:    3.9s\n",
      "[Parallel(n_jobs=-1)]: Done 192 tasks      | elapsed:   18.4s\n",
      "[Parallel(n_jobs=-1)]: Done 442 tasks      | elapsed:   54.7s\n",
      "[Parallel(n_jobs=-1)]: Done 792 tasks      | elapsed:  2.4min\n",
      "[Parallel(n_jobs=-1)]: Done 1242 tasks      | elapsed:  3.6min\n",
      "[Parallel(n_jobs=-1)]: Done 1500 out of 1500 | elapsed:  4.2min finished\n"
     ]
    },
    {
     "name": "stdout",
     "output_type": "stream",
     "text": [
      "{'max_leaf_nodes': 34, 'min_samples_leaf': 11}\n",
      "rf train RMSE 701.7139261183884\n",
      "rf test RMSE 801.8809055919\n",
      "rf train MAE 336.23730982491924\n",
      "rf test MAE 456.9947515799958\n"
     ]
    }
   ],
   "source": [
    "rf_dict = {'max_leaf_nodes': range(15, 35), 'min_samples_leaf': range(5,20)}\n",
    "rf_model = RandomForestRegressor()\n",
    "rf = GridSearchCV(rf_model,rf_dict, cv=5, n_jobs=-1, \n",
    "                     scoring='neg_root_mean_squared_error', verbose=1) \n",
    "rf.fit(x_train, y_train)\n",
    "print(rf.best_params_)\n",
    "y_train_pred_rf = rf.predict(x_train)\n",
    "y_test_pred_rf = rf.predict(x_test)\n",
    "print('rf train RMSE', sqrt(mean_squared_error(y_train, y_train_pred_rf)))\n",
    "print('rf test RMSE', sqrt(mean_squared_error(y_test, y_test_pred_rf)))\n",
    "print('rf train MAE', mean_absolute_error(y_train, y_train_pred_rf))\n",
    "print('rf test MAE', mean_absolute_error(y_test, y_test_pred_rf))"
   ]
  },
  {
   "cell_type": "markdown",
   "metadata": {},
   "source": [
    "Build Support Vector Regression model"
   ]
  },
  {
   "cell_type": "code",
   "execution_count": 28,
   "metadata": {},
   "outputs": [
    {
     "name": "stdout",
     "output_type": "stream",
     "text": [
      "Fitting 5 folds for each of 580 candidates, totalling 2900 fits\n"
     ]
    },
    {
     "name": "stderr",
     "output_type": "stream",
     "text": [
      "[Parallel(n_jobs=-1)]: Using backend LokyBackend with 4 concurrent workers.\n",
      "[Parallel(n_jobs=-1)]: Done 200 tasks      | elapsed:    1.3s\n",
      "[Parallel(n_jobs=-1)]: Done 1400 tasks      | elapsed:    8.0s\n"
     ]
    },
    {
     "name": "stdout",
     "output_type": "stream",
     "text": [
      "{'C': 1900, 'epsilon': 160}\n",
      "rf train RMSE 606.9857878771988\n",
      "rf test RMSE 772.2137719027859\n",
      "rf train MAE 213.3496236154367\n",
      "rf test MAE 431.92670423184376\n"
     ]
    },
    {
     "name": "stderr",
     "output_type": "stream",
     "text": [
      "[Parallel(n_jobs=-1)]: Done 2900 out of 2900 | elapsed:   16.5s finished\n"
     ]
    }
   ],
   "source": [
    "from sklearn.svm import SVR\n",
    "svr_dict = {'epsilon': range(10, 300, 10), 'C': range(1000, 3000, 100)}\n",
    "svr_model = SVR()\n",
    "svr = GridSearchCV(svr_model,svr_dict, cv=5, n_jobs=-1, \n",
    "                     scoring='neg_root_mean_squared_error', verbose=1) \n",
    "svr.fit(x_train, y_train)\n",
    "print(svr.best_params_)\n",
    "y_train_pred_svr = svr.predict(x_train)\n",
    "y_test_pred_svr = svr.predict(x_test)\n",
    "print('rf train RMSE', sqrt(mean_squared_error(y_train, y_train_pred_svr)))\n",
    "print('rf test RMSE', sqrt(mean_squared_error(y_test, y_test_pred_svr)))\n",
    "print('rf train MAE', mean_absolute_error(y_train, y_train_pred_svr))\n",
    "print('rf test MAE', mean_absolute_error(y_test, y_test_pred_svr))"
   ]
  },
  {
   "cell_type": "markdown",
   "metadata": {},
   "source": [
    "Build Voting Regressor model"
   ]
  },
  {
   "cell_type": "code",
   "execution_count": 31,
   "metadata": {},
   "outputs": [
    {
     "name": "stdout",
     "output_type": "stream",
     "text": [
      "rf train RMSE 641.1799979082006\n",
      "rf test RMSE 776.3201464188072\n",
      "rf train MAE 266.4982085308788\n",
      "rf test MAE 438.9851287385929\n"
     ]
    }
   ],
   "source": [
    "from sklearn.ensemble import VotingRegressor\n",
    "v_lr = LinearRegression()\n",
    "v_lasso = Lasso(alpha = 47)\n",
    "v_ridge = Ridge(alpha = 173)\n",
    "v_rf = RandomForestRegressor(max_leaf_nodes = 34, min_samples_leaf = 11)\n",
    "v_svr = SVR(C=1860, epsilon=161)\n",
    "vr = VotingRegressor(estimators=[('rf', v_rf), ('svr', v_svr)])\n",
    "vr.fit(x_train, y_train)\n",
    "\n",
    "y_train_pred_v = vr.predict(x_train)\n",
    "y_test_pred_v = vr.predict(x_test)\n",
    "print('rf train RMSE', sqrt(mean_squared_error(y_train, y_train_pred_v)))\n",
    "print('rf test RMSE', sqrt(mean_squared_error(y_test, y_test_pred_v)))\n",
    "print('rf train MAE', mean_absolute_error(y_train, y_train_pred_v))\n",
    "print('rf test MAE', mean_absolute_error(y_test, y_test_pred_v))"
   ]
  },
  {
   "cell_type": "markdown",
   "metadata": {},
   "source": [
    "# Outlier Removed Modeling"
   ]
  },
  {
   "cell_type": "markdown",
   "metadata": {},
   "source": [
    "Remove outlier datapoint"
   ]
  },
  {
   "cell_type": "code",
   "execution_count": null,
   "metadata": {},
   "outputs": [],
   "source": [
    "filt_df = df[df['Lifetime Post Consumers']<10000]\n",
    "filt_df.sort_values(by='Lifetime Post Consumers', ascending=False).head()"
   ]
  },
  {
   "cell_type": "markdown",
   "metadata": {},
   "source": [
    "Create x and y variables form filtered df"
   ]
  },
  {
   "cell_type": "code",
   "execution_count": 43,
   "metadata": {},
   "outputs": [],
   "source": [
    "filt_x = filt_df[x_columns]\n",
    "filt_y = filt_df['Lifetime Post Consumers']"
   ]
  },
  {
   "cell_type": "markdown",
   "metadata": {},
   "source": [
    "Perform Train Test Split on outler removed dataset"
   ]
  },
  {
   "cell_type": "code",
   "execution_count": 44,
   "metadata": {},
   "outputs": [],
   "source": [
    "filt_x_train, filt_x_test, filt_y_train, filt_y_test = train_test_split(filt_x, filt_y,random_state=27)"
   ]
  },
  {
   "cell_type": "markdown",
   "metadata": {},
   "source": [
    "Standardize outler removed dataset"
   ]
  },
  {
   "cell_type": "code",
   "execution_count": 45,
   "metadata": {},
   "outputs": [],
   "source": [
    "ss_filt = StandardScaler()\n",
    "ss_filt.fit(filt_x_train)\n",
    "filt_x_train = ss.transform(filt_x_train)\n",
    "filt_x_test = ss.transform(filt_x_test)"
   ]
  },
  {
   "cell_type": "markdown",
   "metadata": {},
   "source": [
    "Run Dummy Regressor model on outlier removed dataset"
   ]
  },
  {
   "cell_type": "code",
   "execution_count": 47,
   "metadata": {},
   "outputs": [
    {
     "name": "stdout",
     "output_type": "stream",
     "text": [
      "dr train RMSE 679.528272908791\n",
      "dr test RMSE 916.0834590957451\n",
      "dr train MAE 489.3972375532615\n",
      "dr test MAE 524.6919786096257\n"
     ]
    }
   ],
   "source": [
    "filt_dr = DummyRegressor()\n",
    "filt_dr.fit(filt_x_train, filt_y_train)\n",
    "filt_y_train_pred_dr = filt_dr.predict(filt_x_train)\n",
    "filt_y_test_pred_dr = filt_dr.predict(filt_x_test)\n",
    "print('dr train RMSE', sqrt(mean_squared_error(filt_y_train, filt_y_train_pred_dr)))\n",
    "print('dr test RMSE', sqrt(mean_squared_error(filt_y_test, filt_y_test_pred_dr)))\n",
    "print('dr train MAE', mean_absolute_error(filt_y_train, filt_y_train_pred_dr))\n",
    "print('dr test MAE', mean_absolute_error(filt_y_test, filt_y_test_pred_dr))"
   ]
  },
  {
   "cell_type": "markdown",
   "metadata": {},
   "source": [
    "Run Support Vector Regression model on outlier removed dataset"
   ]
  },
  {
   "cell_type": "code",
   "execution_count": 46,
   "metadata": {},
   "outputs": [
    {
     "name": "stdout",
     "output_type": "stream",
     "text": [
      "Fitting 5 folds for each of 580 candidates, totalling 2900 fits\n"
     ]
    },
    {
     "name": "stderr",
     "output_type": "stream",
     "text": [
      "[Parallel(n_jobs=-1)]: Using backend LokyBackend with 4 concurrent workers.\n",
      "[Parallel(n_jobs=-1)]: Done  56 tasks      | elapsed:    4.5s\n",
      "[Parallel(n_jobs=-1)]: Done 656 tasks      | elapsed:   11.5s\n",
      "[Parallel(n_jobs=-1)]: Done 1656 tasks      | elapsed:   25.1s\n"
     ]
    },
    {
     "name": "stdout",
     "output_type": "stream",
     "text": [
      "{'C': 1700, 'epsilon': 100}\n",
      "rf train RMSE 335.3972071673843\n",
      "rf test RMSE 779.4526363841934\n",
      "rf train MAE 164.1494729908216\n",
      "rf test MAE 403.60482295331235\n"
     ]
    },
    {
     "name": "stderr",
     "output_type": "stream",
     "text": [
      "[Parallel(n_jobs=-1)]: Done 2900 out of 2900 | elapsed:   42.9s finished\n"
     ]
    }
   ],
   "source": [
    "filt_svr_dict = {'epsilon': range(10, 300, 10), 'C': range(1000, 3000, 100)}\n",
    "filt_svr_model = SVR()\n",
    "filt_svr = GridSearchCV(filt_svr_model,filt_svr_dict, cv=5, n_jobs=-1, \n",
    "                     scoring='neg_root_mean_squared_error', verbose=1) \n",
    "filt_svr.fit(filt_x_train, filt_y_train)\n",
    "print(filt_svr.best_params_)\n",
    "filt_y_train_pred_svr = filt_svr.predict(filt_x_train)\n",
    "filt_y_test_pred_svr = filt_svr.predict(filt_x_test)\n",
    "print('rf train RMSE', sqrt(mean_squared_error(filt_y_train, filt_y_train_pred_svr)))\n",
    "print('rf test RMSE', sqrt(mean_squared_error(filt_y_test, filt_y_test_pred_svr)))\n",
    "print('rf train MAE', mean_absolute_error(filt_y_train, filt_y_train_pred_svr))\n",
    "print('rf test MAE', mean_absolute_error(filt_y_test, filt_y_test_pred_svr))"
   ]
  }
 ],
 "metadata": {
  "kernelspec": {
   "display_name": "Python 3",
   "language": "python",
   "name": "python3"
  },
  "language_info": {
   "codemirror_mode": {
    "name": "ipython",
    "version": 3
   },
   "file_extension": ".py",
   "mimetype": "text/x-python",
   "name": "python",
   "nbconvert_exporter": "python",
   "pygments_lexer": "ipython3",
   "version": "3.7.6"
  }
 },
 "nbformat": 4,
 "nbformat_minor": 4
}
